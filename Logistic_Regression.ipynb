{
  "nbformat": 4,
  "nbformat_minor": 0,
  "metadata": {
    "colab": {
      "provenance": []
    },
    "kernelspec": {
      "name": "python3",
      "display_name": "Python 3"
    },
    "language_info": {
      "name": "python"
    }
  },
  "cells": [
    {
      "cell_type": "markdown",
      "source": [
        "**1. Load dataset, train Logistic Regression, and print accuracy**"
      ],
      "metadata": {
        "id": "IiZySB9gWPKp"
      }
    },
    {
      "cell_type": "code",
      "execution_count": 11,
      "metadata": {
        "colab": {
          "base_uri": "https://localhost:8080/"
        },
        "id": "EgIrZ49kVAAr",
        "outputId": "c9bac035-e1f0-4f71-8c02-e7d443090e4a"
      },
      "outputs": [
        {
          "output_type": "stream",
          "name": "stdout",
          "text": [
            "Model Accuracy: 1.0\n"
          ]
        }
      ],
      "source": [
        "from sklearn.model_selection import train_test_split\n",
        "from sklearn.linear_model import LogisticRegression\n",
        "from sklearn.metrics import accuracy_score\n",
        "from sklearn.datasets import load_iris\n",
        "\n",
        "iris = load_iris()\n",
        "X, y = iris.data, iris.target\n",
        "y = (y == 0).astype(int)  # Convert to binary classification\n",
        "\n",
        "X_train, X_test, y_train, y_test = train_test_split(X, y, test_size=0.2, random_state=42)\n",
        "\n",
        "model = LogisticRegression()\n",
        "model.fit(X_train, y_train)\n",
        "\n",
        "y_pred = model.predict(X_test)\n",
        "print(\"Model Accuracy:\", accuracy_score(y_test, y_pred))\n"
      ]
    },
    {
      "cell_type": "markdown",
      "source": [
        "**2. Apply L1 regularization**"
      ],
      "metadata": {
        "id": "YpTrugNuWX3N"
      }
    },
    {
      "cell_type": "code",
      "source": [
        "model_l1 = LogisticRegression(penalty='l1', solver='liblinear')\n",
        "model_l1.fit(X_train, y_train)\n",
        "print(\"L1 Regularized Accuracy:\", accuracy_score(y_test, model_l1.predict(X_test)))\n"
      ],
      "metadata": {
        "colab": {
          "base_uri": "https://localhost:8080/"
        },
        "id": "87PVQUpUWamM",
        "outputId": "7eda4fcb-72e8-4893-9b21-d9b06f394838"
      },
      "execution_count": 12,
      "outputs": [
        {
          "output_type": "stream",
          "name": "stdout",
          "text": [
            "L1 Regularized Accuracy: 1.0\n"
          ]
        }
      ]
    },
    {
      "cell_type": "markdown",
      "source": [
        "**3. Apply L2 regularization**"
      ],
      "metadata": {
        "id": "CGTTq1GfWseZ"
      }
    },
    {
      "cell_type": "code",
      "source": [
        "model_l2 = LogisticRegression(penalty='l2', solver='lbfgs')\n",
        "model_l2.fit(X_train, y_train)\n",
        "print(\"L2 Regularized Accuracy:\", accuracy_score(y_test, model_l2.predict(X_test)))\n"
      ],
      "metadata": {
        "colab": {
          "base_uri": "https://localhost:8080/"
        },
        "id": "zmin9OKIWuGC",
        "outputId": "3eead630-a660-4154-e2fe-0c7a1637ca53"
      },
      "execution_count": 13,
      "outputs": [
        {
          "output_type": "stream",
          "name": "stdout",
          "text": [
            "L2 Regularized Accuracy: 1.0\n"
          ]
        }
      ]
    },
    {
      "cell_type": "markdown",
      "source": [
        "**4. Apply Elastic Net Regularization**"
      ],
      "metadata": {
        "id": "yL9uqfUBXBF2"
      }
    },
    {
      "cell_type": "code",
      "source": [
        "model_en = LogisticRegression(penalty='elasticnet', solver='saga', l1_ratio=0.5)\n",
        "model_en.fit(X_train, y_train)\n",
        "print(\"Elastic Net Regularized Accuracy:\", accuracy_score(y_test, model_en.predict(X_test)))\n"
      ],
      "metadata": {
        "colab": {
          "base_uri": "https://localhost:8080/"
        },
        "id": "mOLDLg50XHtk",
        "outputId": "bea5c2e5-3f76-4ee9-899d-0ae1f49ea7fd"
      },
      "execution_count": 14,
      "outputs": [
        {
          "output_type": "stream",
          "name": "stdout",
          "text": [
            "Elastic Net Regularized Accuracy: 1.0\n"
          ]
        },
        {
          "output_type": "stream",
          "name": "stderr",
          "text": [
            "/usr/local/lib/python3.11/dist-packages/sklearn/linear_model/_sag.py:348: ConvergenceWarning: The max_iter was reached which means the coef_ did not converge\n",
            "  warnings.warn(\n"
          ]
        }
      ]
    },
    {
      "cell_type": "markdown",
      "source": [
        "**5. Train Logistic Regression for multiclass using One-vs-Rest (OvR)**"
      ],
      "metadata": {
        "id": "-xmLSRUZXJFd"
      }
    },
    {
      "cell_type": "code",
      "source": [
        "model_ovr = LogisticRegression(multi_class='ovr', solver='lbfgs')\n",
        "model_ovr.fit(X_train, y_train)\n",
        "print(\"OvR Accuracy:\", accuracy_score(y_test, model_ovr.predict(X_test)))\n"
      ],
      "metadata": {
        "colab": {
          "base_uri": "https://localhost:8080/"
        },
        "id": "Km1HK2g1XM8V",
        "outputId": "570ce348-4a07-4d16-a5c0-2f2395e641e2"
      },
      "execution_count": 15,
      "outputs": [
        {
          "output_type": "stream",
          "name": "stdout",
          "text": [
            "OvR Accuracy: 1.0\n"
          ]
        },
        {
          "output_type": "stream",
          "name": "stderr",
          "text": [
            "/usr/local/lib/python3.11/dist-packages/sklearn/linear_model/_logistic.py:1256: FutureWarning: 'multi_class' was deprecated in version 1.5 and will be removed in 1.7. Use OneVsRestClassifier(LogisticRegression(..)) instead. Leave it to its default value to avoid this warning.\n",
            "  warnings.warn(\n"
          ]
        }
      ]
    },
    {
      "cell_type": "markdown",
      "source": [
        "**6. Hyperparameter tuning with GridSearchCV**"
      ],
      "metadata": {
        "id": "9rx8s34QXOXt"
      }
    },
    {
      "cell_type": "code",
      "source": [
        "from sklearn.model_selection import GridSearchCV\n",
        "\n",
        "param_grid = {'C': [0.1, 1, 10], 'penalty': ['l1', 'l2'], 'solver': ['liblinear']}\n",
        "grid = GridSearchCV(LogisticRegression(), param_grid, cv=5)\n",
        "grid.fit(X_train, y_train)\n",
        "\n",
        "print(\"Best Parameters:\", grid.best_params_)\n",
        "print(\"Best Accuracy:\", grid.best_score_)\n"
      ],
      "metadata": {
        "colab": {
          "base_uri": "https://localhost:8080/"
        },
        "id": "9oZ2jJXGXRec",
        "outputId": "5b8903bf-8ec1-4e93-8af1-9724f3cf3703"
      },
      "execution_count": 16,
      "outputs": [
        {
          "output_type": "stream",
          "name": "stdout",
          "text": [
            "Best Parameters: {'C': 0.1, 'penalty': 'l1', 'solver': 'liblinear'}\n",
            "Best Accuracy: 1.0\n"
          ]
        }
      ]
    },
    {
      "cell_type": "markdown",
      "source": [
        "**7. Evaluate using Stratified K-Fold Cross-Validation**"
      ],
      "metadata": {
        "id": "CfpwBouyXS2s"
      }
    },
    {
      "cell_type": "code",
      "source": [
        "from sklearn.model_selection import StratifiedKFold, cross_val_score\n",
        "\n",
        "cv = StratifiedKFold(n_splits=5)\n",
        "scores = cross_val_score(model, X, y, cv=cv, scoring='accuracy')\n",
        "\n",
        "print(\"Average Accuracy:\", scores.mean())\n"
      ],
      "metadata": {
        "colab": {
          "base_uri": "https://localhost:8080/"
        },
        "id": "xxu8-0cGXWJy",
        "outputId": "c7f2ccf4-46b0-461a-8b25-b73aded4a2cf"
      },
      "execution_count": 17,
      "outputs": [
        {
          "output_type": "stream",
          "name": "stdout",
          "text": [
            "Average Accuracy: 1.0\n"
          ]
        }
      ]
    },
    {
      "cell_type": "markdown",
      "source": [
        "**8. Apply RandomizedSearchCV for hyperparameter **"
      ],
      "metadata": {
        "id": "fvFPIH9kXXfx"
      }
    },
    {
      "cell_type": "code",
      "source": [
        "from sklearn.model_selection import RandomizedSearchCV\n",
        "\n",
        "param_dist = {'C': [0.1, 1, 10], 'penalty': ['l1', 'l2'], 'solver': ['liblinear']}\n",
        "random_search = RandomizedSearchCV(LogisticRegression(), param_distributions=param_dist, n_iter=5, cv=5)\n",
        "random_search.fit(X_train, y_train)\n",
        "\n",
        "print(\"Best Parameters:\", random_search.best_params_)\n",
        "print(\"Best Accuracy:\", random_search.best_score_)\n"
      ],
      "metadata": {
        "colab": {
          "base_uri": "https://localhost:8080/"
        },
        "id": "hQMI2zgmXdJa",
        "outputId": "bef49439-8cb8-4f52-fe0c-88366f714002"
      },
      "execution_count": 18,
      "outputs": [
        {
          "output_type": "stream",
          "name": "stdout",
          "text": [
            "Best Parameters: {'solver': 'liblinear', 'penalty': 'l2', 'C': 10}\n",
            "Best Accuracy: 1.0\n"
          ]
        }
      ]
    },
    {
      "cell_type": "markdown",
      "source": [
        "**9. Implement One-vs-One (OvO) Multiclass Logistic Regression**"
      ],
      "metadata": {
        "id": "gGjXIZvdXfJ4"
      }
    },
    {
      "cell_type": "code",
      "source": [
        "from sklearn.linear_model import LogisticRegression\n",
        "from sklearn.multiclass import OneVsOneClassifier\n",
        "from sklearn.metrics import accuracy_score\n",
        "\n",
        "model_ovo = OneVsOneClassifier(LogisticRegression(solver='lbfgs', max_iter=1000))\n",
        "model_ovo.fit(X_train, y_train)\n",
        "\n",
        "print(\"OvO Accuracy:\", accuracy_score(y_test, model_ovo.predict(X_test)))\n"
      ],
      "metadata": {
        "colab": {
          "base_uri": "https://localhost:8080/"
        },
        "id": "JY1ZmlC3Xh9o",
        "outputId": "d81e5893-d1cd-4484-963f-37ef126513b5"
      },
      "execution_count": 19,
      "outputs": [
        {
          "output_type": "stream",
          "name": "stdout",
          "text": [
            "OvO Accuracy: 1.0\n"
          ]
        }
      ]
    },
    {
      "cell_type": "markdown",
      "source": [
        "**10. Train Logistic Regression and visualize confusion matrix**"
      ],
      "metadata": {
        "id": "zGpG2_xNXvJ6"
      }
    },
    {
      "cell_type": "code",
      "source": [
        "import matplotlib.pyplot as plt\n",
        "from sklearn.metrics import confusion_matrix, ConfusionMatrixDisplay\n",
        "\n",
        "cm = confusion_matrix(y_test, y_pred)\n",
        "disp = ConfusionMatrixDisplay(confusion_matrix=cm)\n",
        "disp.plot()\n",
        "plt.show()\n"
      ],
      "metadata": {
        "colab": {
          "base_uri": "https://localhost:8080/",
          "height": 455
        },
        "id": "gdQyy05XXy0c",
        "outputId": "e99ec053-2b37-4ae2-a085-060647966841"
      },
      "execution_count": 20,
      "outputs": [
        {
          "output_type": "display_data",
          "data": {
            "text/plain": [
              "<Figure size 640x480 with 2 Axes>"
            ],
            "image/png": "[encoded data removed]"
          },
          "metadata": {}
        }
      ]
    },
    {
      "cell_type": "markdown",
      "source": [
        "**11. Train Logistic Regression and evaluate Precision, Recall, and F1-Score**"
      ],
      "metadata": {
        "id": "By8wYqBZX0Uc"
      }
    },
    {
      "cell_type": "code",
      "source": [
        "from sklearn.metrics import precision_score, recall_score, f1_score\n",
        "\n",
        "print(\"Precision:\", precision_score(y_test, y_pred))\n",
        "print(\"Recall:\", recall_score(y_test, y_pred))\n",
        "print(\"F1 Score:\", f1_score(y_test, y_pred))\n"
      ],
      "metadata": {
        "colab": {
          "base_uri": "https://localhost:8080/"
        },
        "id": "UkYZc-IJX3gJ",
        "outputId": "c4a92db7-08d3-4f08-8b9e-c7327c53e4c0"
      },
      "execution_count": 21,
      "outputs": [
        {
          "output_type": "stream",
          "name": "stdout",
          "text": [
            "Precision: 1.0\n",
            "Recall: 1.0\n",
            "F1 Score: 1.0\n"
          ]
        }
      ]
    },
    {
      "cell_type": "markdown",
      "source": [
        "**12. Train Logistic Regression on imbalanced data using class weights**"
      ],
      "metadata": {
        "id": "n014ODkhX4_H"
      }
    },
    {
      "cell_type": "code",
      "source": [
        "model_weighted = LogisticRegression(class_weight='balanced')\n",
        "model_weighted.fit(X_train, y_train)\n",
        "print(\"Weighted Model Accuracy:\", accuracy_score(y_test, model_weighted.predict(X_test)))\n"
      ],
      "metadata": {
        "colab": {
          "base_uri": "https://localhost:8080/"
        },
        "id": "casNu9ecX8kH",
        "outputId": "b712d635-80d2-4e19-f59e-f96493753a39"
      },
      "execution_count": 22,
      "outputs": [
        {
          "output_type": "stream",
          "name": "stdout",
          "text": [
            "Weighted Model Accuracy: 1.0\n"
          ]
        }
      ]
    },
    {
      "cell_type": "markdown",
      "source": [
        "**13. Train Logistic Regression on Titanic dataset**"
      ],
      "metadata": {
        "id": "Z-eKVjcKX9qr"
      }
    },
    {
      "cell_type": "markdown",
      "source": [
        "**14. Apply Standardization before Logistic Regression**"
      ],
      "metadata": {
        "id": "XcH2Rs_hYE7E"
      }
    },
    {
      "cell_type": "markdown",
      "source": [],
      "metadata": {
        "id": "yBx3GiMkm1WA"
      }
    },
    {
      "cell_type": "code",
      "source": [
        "from sklearn.preprocessing import StandardScaler\n",
        "\n",
        "scaler = StandardScaler()\n",
        "X_train_scaled = scaler.fit_transform(X_train)\n",
        "X_test_scaled = scaler.transform(X_test)\n",
        "\n",
        "model.fit(X_train_scaled, y_train)\n",
        "print(\"Standardized Model Accuracy:\", accuracy_score(y_test, model.predict(X_test_scaled)))\n"
      ],
      "metadata": {
        "id": "-bsG7P-jYHhZ"
      },
      "execution_count": null,
      "outputs": []
    },
    {
      "cell_type": "markdown",
      "source": [
        "**15. Evaluate Logistic Regression using ROC-AUC score**"
      ],
      "metadata": {
        "id": "RGZJl9i4YJUr"
      }
    },
    {
      "cell_type": "code",
      "source": [
        "from sklearn.metrics import roc_auc_score\n",
        "\n",
        "print(\"ROC-AUC Score:\", roc_auc_score(y_test, model.predict_proba(X_test)[:,1]))\n"
      ],
      "metadata": {
        "id": "UbECERBDYMSp"
      },
      "execution_count": null,
      "outputs": []
    },
    {
      "cell_type": "markdown",
      "source": [
        "**16. Train Logistic Regression using custom learning rate (C=0.5)**"
      ],
      "metadata": {
        "id": "6l_76Pe_YOBn"
      }
    },
    {
      "cell_type": "code",
      "source": [
        "model_custom = LogisticRegression(C=0.5)\n",
        "model_custom.fit(X_train, y_train)\n",
        "print(\"Custom C Model Accuracy:\", accuracy_score(y_test, model_custom.predict(X_test)))\n"
      ],
      "metadata": {
        "id": "zLxhUXBxYQ4W"
      },
      "execution_count": null,
      "outputs": []
    },
    {
      "cell_type": "markdown",
      "source": [
        "**17. Identify important features using model coefficients**"
      ],
      "metadata": {
        "id": "W5HHANHSYSPq"
      }
    },
    {
      "cell_type": "code",
      "source": [
        "import numpy as np\n",
        "\n",
        "coefs = np.abs(model.coef_)\n",
        "important_features = np.argsort(coefs[0])[-5:]  # Get top 5 features\n",
        "print(\"Top 5 Important Features:\", important_features)\n"
      ],
      "metadata": {
        "id": "kPzbdQT3YVUg"
      },
      "execution_count": null,
      "outputs": []
    },
    {
      "cell_type": "markdown",
      "source": [
        "**18. Train Logistic Regression and evaluate Cohen’s Kappa Score**"
      ],
      "metadata": {
        "id": "Z_ZYB_iDYXOV"
      }
    },
    {
      "cell_type": "code",
      "source": [
        "from sklearn.metrics import cohen_kappa_score\n",
        "\n",
        "print(\"Cohen’s Kappa Score:\", cohen_kappa_score(y_test, y_pred))\n"
      ],
      "metadata": {
        "id": "qB-EUUrLYZz_"
      },
      "execution_count": null,
      "outputs": []
    },
    {
      "cell_type": "markdown",
      "source": [
        "**19. Visualize Precision-Recall Curve**"
      ],
      "metadata": {
        "id": "SSLySiuVYbIr"
      }
    },
    {
      "cell_type": "code",
      "source": [
        "from sklearn.metrics import precision_recall_curve\n",
        "\n",
        "precision, recall, _ = precision_recall_curve(y_test, model.predict_proba(X_test)[:,1])\n",
        "\n",
        "plt.plot(recall, precision)\n",
        "plt.xlabel(\"Recall\")\n",
        "plt.ylabel(\"Precision\")\n",
        "plt.title(\"Precision-Recall Curve\")\n",
        "plt.show()\n"
      ],
      "metadata": {
        "id": "frVJeSAIYeeD"
      },
      "execution_count": null,
      "outputs": []
    },
    {
      "cell_type": "markdown",
      "source": [
        "**20. Train Logistic Regression with different solvers and compare accuracy**"
      ],
      "metadata": {
        "id": "DYvvakQxYgRc"
      }
    },
    {
      "cell_type": "code",
      "source": [
        "solvers = ['liblinear', 'saga', 'lbfgs']\n",
        "for solver in solvers:\n",
        "    model_solver = LogisticRegression(solver=solver)\n",
        "    model_solver.fit(X_train, y_train)\n",
        "    print(f\"Solver: {solver}, Accuracy: {accuracy_score(y_test, model_solver.predict(X_test))}\")\n"
      ],
      "metadata": {
        "id": "DgFl_-OgYj_A"
      },
      "execution_count": null,
      "outputs": []
    },
    {
      "cell_type": "markdown",
      "source": [
        "**21. Train Logistic Regression with different solvers (liblinear, saga, lbfgs) and compare accuracy**"
      ],
      "metadata": {
        "id": "x1mXAJALYoPg"
      }
    },
    {
      "cell_type": "code",
      "source": [
        "solvers = ['liblinear', 'saga', 'lbfgs']\n",
        "for solver in solvers:\n",
        "    model_solver = LogisticRegression(solver=solver)\n",
        "    model_solver.fit(X_train, y_train)\n",
        "    print(f\"Solver: {solver}, Accuracy: {accuracy_score(y_test, model_solver.predict(X_test))}\")\n"
      ],
      "metadata": {
        "id": "MD25p8z9Yqnz"
      },
      "execution_count": null,
      "outputs": []
    },
    {
      "cell_type": "markdown",
      "source": [
        "**22. Train Logistic Regression and evaluate using Matthews Correlation Coefficient (MCC)**"
      ],
      "metadata": {
        "id": "4w778XLJYr5L"
      }
    },
    {
      "cell_type": "code",
      "source": [
        "from sklearn.metrics import matthews_corrcoef\n",
        "\n",
        "print(\"Matthews Correlation Coefficient (MCC):\", matthews_corrcoef(y_test, y_pred))\n"
      ],
      "metadata": {
        "id": "u16aq71MYvAQ"
      },
      "execution_count": null,
      "outputs": []
    },
    {
      "cell_type": "markdown",
      "source": [
        "**23. Train Logistic Regression on both raw and standardized data, compare accuracy**"
      ],
      "metadata": {
        "id": "whCAEAVPYweO"
      }
    },
    {
      "cell_type": "code",
      "source": [
        "# Without scaling\n",
        "model.fit(X_train, y_train)\n",
        "acc_raw = accuracy_score(y_test, model.predict(X_test))\n",
        "\n",
        "# With scaling\n",
        "scaler = StandardScaler()\n",
        "X_train_scaled = scaler.fit_transform(X_train)\n",
        "X_test_scaled = scaler.transform(X_test)\n",
        "\n",
        "model.fit(X_train_scaled, y_train)\n",
        "acc_scaled = accuracy_score(y_test, model.predict(X_test_scaled))\n",
        "\n",
        "print(\"Accuracy without Scaling:\", acc_raw)\n",
        "print(\"Accuracy with Scaling:\", acc_scaled)\n"
      ],
      "metadata": {
        "id": "YtShHMvRYzmC"
      },
      "execution_count": null,
      "outputs": []
    },
    {
      "cell_type": "markdown",
      "source": [
        "**24. Train Logistic Regression and find the optimal C using cross-validation**"
      ],
      "metadata": {
        "id": "jqeSBXGIY1La"
      }
    },
    {
      "cell_type": "code",
      "source": [
        "from sklearn.model_selection import cross_val_score\n",
        "\n",
        "C_values = [0.01, 0.1, 1, 10, 100]\n",
        "best_score = 0\n",
        "best_C = None\n",
        "\n",
        "for C in C_values:\n",
        "    model_C = LogisticRegression(C=C)\n",
        "    scores = cross_val_score(model_C, X, y, cv=5)\n",
        "    mean_score = scores.mean()\n",
        "\n",
        "    if mean_score > best_score:\n",
        "        best_score = mean_score\n",
        "        best_C = C\n",
        "\n",
        "print(f\"Best C: {best_C} with Accuracy: {best_score}\")\n"
      ],
      "metadata": {
        "id": "kOK-PPBjY4s1"
      },
      "execution_count": null,
      "outputs": []
    },
    {
      "cell_type": "markdown",
      "source": [
        "**25. Train Logistic Regression, save the trained model using joblib, and load it again to make predictions**"
      ],
      "metadata": {
        "id": "D4spFqSdY61F"
      }
    },
    {
      "cell_type": "code",
      "source": [
        "import joblib\n",
        "\n",
        "# Save the model\n",
        "joblib.dump(model, \"logistic_model.pkl\")\n",
        "\n",
        "# Load the model\n",
        "loaded_model = joblib.load(\"logistic_model.pkl\")\n",
        "\n",
        "# Make predictions\n",
        "print(\"Loaded Model Accuracy:\", accuracy_score(y_test, loaded_model.predict(X_test)))\n"
      ],
      "metadata": {
        "colab": {
          "base_uri": "https://localhost:8080/"
        },
        "id": "HqjYdNcIY9jZ",
        "outputId": "f25861a7-98fd-4869-83fd-a4fe97ca91cc"
      },
      "execution_count": 26,
      "outputs": [
        {
          "output_type": "stream",
          "name": "stdout",
          "text": [
            "Loaded Model Accuracy: 1.0\n"
          ]
        }
      ]
    },
    {
      "cell_type": "code",
      "source": [],
      "metadata": {
        "id": "_0Zgkmxqm3NC"
      },
      "execution_count": null,
      "outputs": []
    },
    {
      "cell_type": "markdown",
      "source": [
        "\n",
        "\n",
        "\n",
        "\n",
        "### **1. What is Logistic Regression, and how does it differ from Linear Regression?**\n",
        "\n",
        "* **Logistic Regression** is used for **classification** tasks (e.g., spam/not spam).\n",
        "* **Linear Regression** is used for **regression** tasks (predicting continuous values).\n",
        "* Logistic Regression outputs probabilities (between 0 and 1) using a **sigmoid function**, while Linear Regression outputs real numbers.\n",
        "\n",
        "---\n",
        "\n",
        "### **2. What is the mathematical equation of Logistic Regression?**\n",
        "\n",
        "$$\n",
        "P(y=1|x) = \\frac{1}{1 + e^{-(\\beta_0 + \\beta_1x_1 + \\beta_2x_2 + \\cdots + \\beta_nx_n)}}\n",
        "$$\n",
        "\n",
        "---\n",
        "\n",
        "### **3. Why do we use the Sigmoid function in Logistic Regression?**\n",
        "\n",
        "* It maps the linear output to a **probability between 0 and 1**, making it suitable for classification.\n",
        "\n",
        "---\n",
        "\n",
        "### **4. What is the cost function of Logistic Regression?**\n",
        "\n",
        "$$\n",
        "J(\\theta) = -\\frac{1}{m} \\sum_{i=1}^{m} \\left[ y^{(i)} \\log(h_\\theta(x^{(i)})) + (1 - y^{(i)}) \\log(1 - h_\\theta(x^{(i)})) \\right]\n",
        "$$\n",
        "\n",
        "This is called the **log-loss** or **binary cross-entropy** function.\n",
        "\n",
        "---\n",
        "\n",
        "### **5. What is Regularization in Logistic Regression? Why is it needed?**\n",
        "\n",
        "* Regularization adds a **penalty** to the loss function to prevent **overfitting**.\n",
        "* It discourages overly complex models (large coefficients).\n",
        "\n",
        "---\n",
        "\n",
        "### **6. Explain the difference between Lasso, Ridge, and Elastic Net regression.**\n",
        "\n",
        "* **Lasso (L1):** Adds $\\lambda \\sum |\\beta_j|$; can shrink coefficients to zero (feature selection).\n",
        "* **Ridge (L2):** Adds $\\lambda \\sum \\beta_j^2$; shrinks coefficients but keeps all features.\n",
        "* **Elastic Net:** Combines L1 and L2; balances sparsity and regularization.\n",
        "\n",
        "---\n",
        "\n",
        "### **7. When should we use Elastic Net instead of Lasso or Ridge?**\n",
        "\n",
        "* When features are **correlated** or when **Lasso alone underperforms**.\n",
        "* Elastic Net balances variable selection and coefficient shrinkage.\n",
        "\n",
        "---\n",
        "\n",
        "### **8. What is the impact of the regularization parameter (λ) in Logistic Regression?**\n",
        "\n",
        "* **Higher λ:** More regularization → smaller coefficients → may underfit.\n",
        "* **Lower λ:** Less regularization → risk of overfitting.\n",
        "\n",
        "---\n",
        "\n",
        "### **9. What are the key assumptions of Logistic Regression?**\n",
        "\n",
        "* No multicollinearity.\n",
        "* Linear relationship between features and **log-odds**.\n",
        "* Independence of observations.\n",
        "* Large sample size for stable estimates.\n",
        "\n",
        "---\n",
        "\n",
        "### **10. What are some alternatives to Logistic Regression for classification tasks?**\n",
        "\n",
        "* Decision Trees\n",
        "* Random Forest\n",
        "* Support Vector Machines (SVM)\n",
        "* k-Nearest Neighbors (k-NN)\n",
        "* Naïve Bayes\n",
        "* Neural Networks\n",
        "\n",
        "---\n",
        "\n",
        "### **11. What are Classification Evaluation Metrics?**\n",
        "\n",
        "* Accuracy\n",
        "* Precision\n",
        "* Recall\n",
        "* F1-score\n",
        "* ROC-AUC\n",
        "* Confusion Matrix\n",
        "\n",
        "---\n",
        "\n",
        "### **12. How does class imbalance affect Logistic Regression?**\n",
        "\n",
        "* It can lead to biased predictions toward the **majority class**, reducing model performance for the minority class.\n",
        "\n",
        "---\n",
        "\n",
        "### **13. What is Hyperparameter Tuning in Logistic Regression?**\n",
        "\n",
        "* It involves choosing the best values for parameters like:\n",
        "\n",
        "  * Regularization strength (λ or `C`)\n",
        "  * Penalty type (L1/L2)\n",
        "  * Solver\n",
        "    Using techniques like Grid Search or Random Search.\n",
        "\n",
        "---\n",
        "\n",
        "### **14. What are different solvers in Logistic Regression? Which one should be used?**\n",
        "\n",
        "* **liblinear:** Good for small datasets, supports L1.\n",
        "* **saga:** Large datasets, supports L1, L2, and Elastic Net.\n",
        "* **newton-cg**, **lbfgs:** Good for L2, multiclass.\n",
        "* Choose based on dataset size and regularization type.\n",
        "\n",
        "---\n",
        "\n",
        "### **15. How is Logistic Regression extended for multiclass classification?**\n",
        "\n",
        "* **One-vs-Rest (OvR):** Fits one classifier per class.\n",
        "* **Softmax Regression (Multinomial Logistic Regression):** Predicts all classes in one model using the softmax function.\n",
        "\n",
        "---\n",
        "\n",
        "### **16. What are the advantages and disadvantages of Logistic Regression?**\n",
        "\n",
        "**Advantages:**\n",
        "\n",
        "* Simple, interpretable\n",
        "* Efficient for binary classification\n",
        "* Works well with linearly separable data\n",
        "\n",
        "**Disadvantages:**\n",
        "\n",
        "* Poor performance on complex relationships\n",
        "* Assumes linearity in log-odds\n",
        "* Sensitive to multicollinearity\n",
        "\n",
        "---\n",
        "\n",
        "### **17. What are some use cases of Logistic Regression?**\n",
        "\n",
        "* Spam detection\n",
        "* Disease diagnosis (e.g., diabetes prediction)\n",
        "* Customer churn prediction\n",
        "* Credit scoring\n",
        "* Fraud detection\n",
        "\n",
        "---\n",
        "\n",
        "### **18. What is the difference between Softmax Regression and Logistic Regression?**\n",
        "\n",
        "* **Logistic Regression:** Binary classification.\n",
        "* **Softmax Regression:** Multiclass classification with mutually exclusive classes.\n",
        "\n",
        "---\n",
        "\n",
        "### **19. How do we choose between One-vs-Rest (OvR) and Softmax for multiclass classification?**\n",
        "\n",
        "* **OvR:** Simpler, good for unbalanced classes or when interpretability is key.\n",
        "* **Softmax:** More accurate for balanced and mutually exclusive classes; considers all classes at once.\n",
        "\n",
        "---\n",
        "\n",
        "### **20. How do we interpret coefficients in Logistic Regression?**\n",
        "\n",
        "* Each coefficient represents the **log-odds** change in the outcome for a 1-unit increase in the predictor.\n",
        "* Exponentiating a coefficient ($e^{\\beta}$) gives the **odds ratio**.\n",
        "\n",
        "---\n"
      ],
      "metadata": {
        "id": "d_REPQDlm3wv"
      }
    },
    {
      "cell_type": "code",
      "source": [],
      "metadata": {
        "id": "mHYaiSQEnL8b"
      },
      "execution_count": null,
      "outputs": []
    }
  ]
}